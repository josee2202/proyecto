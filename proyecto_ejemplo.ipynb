{
 "cells": [
  {
   "cell_type": "code",
   "execution_count": null,
   "metadata": {},
   "outputs": [
    {
     "name": "stdout",
     "output_type": "stream",
     "text": [
      "3.13.0 | packaged by conda-forge | (main, Oct 17 2024, 12:38:20) [Clang 17.0.6 ]\n",
      "['/opt/miniconda3/envs/aa_proyecto1/lib/python313.zip', '/opt/miniconda3/envs/aa_proyecto1/lib/python3.13', '/opt/miniconda3/envs/aa_proyecto1/lib/python3.13/lib-dynload', '', '/opt/miniconda3/envs/aa_proyecto1/lib/python3.13/site-packages']\n",
      "---\n",
      "/opt/miniconda3/envs/aa_proyecto1/bin/python\n"
     ]
    }
   ],
   "source": [
    "# Check environment\n",
    "import sys\n",
    "\n",
    "print(sys.version) ## version de python \n",
    "print(sys.path)\n",
    "print(\"---\")\n",
    "print(sys.executable) ## Indica que archivo se está utilizando para ejecutar pyhton \n",
    "                      ##compruebo que se está ejecutando en el entorno correcto"
   ]
  },
  {
   "cell_type": "code",
   "execution_count": null,
   "metadata": {},
   "outputs": [
    {
     "name": "stdout",
     "output_type": "stream",
     "text": [
      "Unexpected exception formatting exception. Falling back to standard exception\n"
     ]
    },
    {
     "name": "stderr",
     "output_type": "stream",
     "text": [
      "Traceback (most recent call last):\n",
      "  File \"/opt/miniconda3/envs/aa_proyecto1/lib/python3.13/site-packages/IPython/core/interactiveshell.py\", line 3577, in run_code\n",
      "  File \"/var/folders/tc/by0t4jss3x76ftlkdtpv9plr0000gn/T/ipykernel_22763/1668070641.py\", line 2, in <module>\n",
      "    import numpy as np\n",
      "ModuleNotFoundError: No module named 'numpy'\n",
      "\n",
      "During handling of the above exception, another exception occurred:\n",
      "\n",
      "Traceback (most recent call last):\n",
      "  File \"/opt/miniconda3/envs/aa_proyecto1/lib/python3.13/site-packages/pygments/styles/__init__.py\", line 45, in get_style_by_name\n",
      "ModuleNotFoundError: No module named 'pygments.styles.default'\n",
      "\n",
      "During handling of the above exception, another exception occurred:\n",
      "\n",
      "Traceback (most recent call last):\n",
      "  File \"/opt/miniconda3/envs/aa_proyecto1/lib/python3.13/site-packages/IPython/core/interactiveshell.py\", line 2168, in showtraceback\n",
      "  File \"/opt/miniconda3/envs/aa_proyecto1/lib/python3.13/site-packages/IPython/core/ultratb.py\", line 1457, in structured_traceback\n",
      "  File \"/opt/miniconda3/envs/aa_proyecto1/lib/python3.13/site-packages/IPython/core/ultratb.py\", line 1348, in structured_traceback\n",
      "  File \"/opt/miniconda3/envs/aa_proyecto1/lib/python3.13/site-packages/IPython/core/ultratb.py\", line 1195, in structured_traceback\n",
      "  File \"/opt/miniconda3/envs/aa_proyecto1/lib/python3.13/site-packages/IPython/core/ultratb.py\", line 1085, in format_exception_as_a_whole\n",
      "  File \"/opt/miniconda3/envs/aa_proyecto1/lib/python3.13/site-packages/IPython/core/ultratb.py\", line 1136, in get_records\n",
      "  File \"/opt/miniconda3/envs/aa_proyecto1/lib/python3.13/site-packages/pygments/styles/__init__.py\", line 47, in get_style_by_name\n",
      "pygments.util.ClassNotFound: Could not find style module 'pygments.styles.default', though it should be builtin.\n"
     ]
    }
   ],
   "source": [
    "# primero todas las librerías por bloques\n",
    "import numpy as np\n",
    "import pandas as pd\n",
    "import matplotlib.pyplot as plt\n",
    "import seaborn as sns\n",
    "import warnings\n",
    "warnings.filterwarnings(\"ignore\")"
   ]
  },
  {
   "cell_type": "code",
   "execution_count": null,
   "metadata": {},
   "outputs": [],
   "source": [
    "# opciones de visualización\n",
    "pd.set_option('display.max_rows', 500)\n",
    "pd.set_option('display.max_columns', 500)"
   ]
  },
  {
   "cell_type": "code",
   "execution_count": null,
   "metadata": {},
   "outputs": [],
   "source": []
  }
 ],
 "metadata": {
  "kernelspec": {
   "display_name": "aa_proyecto1",
   "language": "python",
   "name": "python3"
  },
  "language_info": {
   "codemirror_mode": {
    "name": "ipython",
    "version": 3
   },
   "file_extension": ".py",
   "mimetype": "text/x-python",
   "name": "python",
   "nbconvert_exporter": "python",
   "pygments_lexer": "ipython3",
   "version": "3.13.0"
  }
 },
 "nbformat": 4,
 "nbformat_minor": 2
}
